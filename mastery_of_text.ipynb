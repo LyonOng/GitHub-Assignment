{
 "cells": [
  {
   "cell_type": "code",
   "execution_count": 82,
   "id": "a29ea01d-f104-42a3-93fa-3bb3f6a9330e",
   "metadata": {},
   "outputs": [
    {
     "name": "stdout",
     "output_type": "stream",
     "text": [
      "The answer to number one is: 99968\n"
     ]
    }
   ],
   "source": [
    "import urllib.request\n",
    "\n",
    "gutenberg = \"https://www.gutenberg.org/cache/epub/10/pg10.txt\"\n",
    "with urllib.request.urlopen(gutenberg) as response:\n",
    "    pg10 = response.read().decode('utf-8')\n",
    "\n",
    "# 1. How many lines does the string have?\n",
    "number_lines = len(pg10.splitlines())\n",
    "print(\"The answer to number one is:\" + \" \" + str(number_lines)) #99968"
   ]
  },
  {
   "cell_type": "code",
   "execution_count": 78,
   "id": "fb307bbb-a515-4fd2-84ae-11821330edce",
   "metadata": {
    "scrolled": true
   },
   "outputs": [
    {
     "name": "stdout",
     "output_type": "stream",
     "text": [
      "The answer to number two is: 824538\n"
     ]
    }
   ],
   "source": [
    "# 2. How many words does the string have? (where a word is any set of directly-adjacent alphabet characters)\n",
    "number_words = len(pg10.split())\n",
    "print(\"The answer to number two is:\" + \" \" + str(number_words)) #824538"
   ]
  },
  {
   "cell_type": "code",
   "execution_count": 80,
   "id": "6bbcd0d1-03d3-485e-882f-67a0d2e770a0",
   "metadata": {},
   "outputs": [
    {
     "name": "stdout",
     "output_type": "stream",
     "text": [
      "The answer to number three is: 41\n"
     ]
    }
   ],
   "source": [
    "# 3. How many times does the word \"apostle\", ignoring capitalization, appear in the string?\n",
    "find = \"apostle\"\n",
    "count = 0 \n",
    "for word in pg10.lower().split():\n",
    "    if word == find:\n",
    "        count += 1\n",
    "print(\"The answer to number three is:\" + \" \" + str(count)) #41"
   ]
  },
  {
   "cell_type": "code",
   "execution_count": 83,
   "id": "bcb16c6b-f5be-4207-be29-0448ff0cdfce",
   "metadata": {},
   "outputs": [
    {
     "name": "stdout",
     "output_type": "stream",
     "text": [
      "The answer to number four is: the\n"
     ]
    }
   ],
   "source": [
    "# 4. What is the most common word, ignoring capitalization, in the string? \n",
    "# (where a word is any set of directly-adjacent alphabet characters) \n",
    "all_words = pg10.lower().split()\n",
    "word_count = {}\n",
    "for x in all_words:\n",
    "    if x.isalpha(): \n",
    "        word_count[x] = word_count.get(x, 0) + 1\n",
    "answer = max(word_count, key = word_count.get)\n",
    "print(\"The answer to number four is:\" + \" \" + answer) # the"
   ]
  },
  {
   "cell_type": "code",
   "execution_count": 86,
   "id": "2e2d3d9f-5af4-40d0-9490-cc636dd176b5",
   "metadata": {},
   "outputs": [
    {
     "name": "stdout",
     "output_type": "stream",
     "text": [
      "Most common word (case insensitive): 'the'\n"
     ]
    }
   ],
   "source": [
    "# Convert the entire text to lowercase and split into words\n",
    "words = pg10.lower().split()\n",
    "\n",
    "# Initialize an empty dictionary to count occurrences of each word\n",
    "word_counts = {}\n",
    "\n",
    "# Count occurrences of each word\n",
    "for word in words:\n",
    "    # Check if the word consists of alphabetic characters only\n",
    "    if word.isalpha():\n",
    "        # Increment the count for the word\n",
    "        if word in word_counts:\n",
    "            word_counts[word] += 1\n",
    "        else:\n",
    "            word_counts[word] = 1\n",
    "\n",
    "# Initialize variables to track the most common word and its count\n",
    "most_common_word = \"\"\n",
    "max_count = 0\n",
    "\n",
    "# Find the most common word\n",
    "for word, count in word_counts.items():\n",
    "    if count > max_count:\n",
    "        max_count = count\n",
    "        most_common_word = word\n",
    "\n",
    "# Print the most common word\n",
    "print(f\"Most common word (case insensitive): '{most_common_word}'\")\n"
   ]
  }
 ],
 "metadata": {
  "kernelspec": {
   "display_name": "Python 3 (ipykernel)",
   "language": "python",
   "name": "python3"
  },
  "language_info": {
   "codemirror_mode": {
    "name": "ipython",
    "version": 3
   },
   "file_extension": ".py",
   "mimetype": "text/x-python",
   "name": "python",
   "nbconvert_exporter": "python",
   "pygments_lexer": "ipython3",
   "version": "3.11.7"
  }
 },
 "nbformat": 4,
 "nbformat_minor": 5
}
