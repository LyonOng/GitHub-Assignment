{
 "cells": [
  {
   "cell_type": "code",
   "execution_count": 82,
   "id": "a29ea01d-f104-42a3-93fa-3bb3f6a9330e",
   "metadata": {},
   "outputs": [
    {
     "name": "stdout",
     "output_type": "stream",
     "text": [
      "The answer to number one is: 99968\n"
     ]
    }
   ],
   "source": [
    "import urllib.request\n",
    "\n",
    "gutenberg = \"https://www.gutenberg.org/cache/epub/10/pg10.txt\"\n",
    "with urllib.request.urlopen(gutenberg) as response:\n",
    "    pg10 = response.read().decode('utf-8')\n",
    "\n",
    "# 1. How many lines does the string have?\n",
    "number_lines = len(pg10.splitlines())\n",
    "print(\"The answer to number one is:\" + \" \" + str(number_lines)) #99968"
   ]
  },
  {
   "cell_type": "code",
   "execution_count": 14,
   "id": "fb307bbb-a515-4fd2-84ae-11821330edce",
   "metadata": {
    "editable": true,
    "scrolled": true,
    "slideshow": {
     "slide_type": ""
    },
    "tags": []
   },
   "outputs": [
    {
     "name": "stdout",
     "output_type": "stream",
     "text": [
      "The answer to number two is: 795227\n"
     ]
    }
   ],
   "source": [
    "# 2. How many words does the string have? (where a word is any set of directly-adjacent alphabet characters)\n",
    "import urllib.request\n",
    "\n",
    "gutenberg = \"https://www.gutenberg.org/cache/epub/10/pg10.txt\"\n",
    "with urllib.request.urlopen(gutenberg) as response:\n",
    "    pg10 = response.read().decode('utf-8')\n",
    "    \n",
    "list = []    \n",
    "word_total = \"\"\n",
    "for x in pg10:\n",
    "    if x.isalpha():\n",
    "        word_total += x\n",
    "    else:\n",
    "        if len(word_total) > 0:\n",
    "            list.append(word_total)\n",
    "            word_total = \"\"\n",
    "word_count = len(word_total)\n",
    "print(\"The answer to number two is:\" + \" \" + str(word_total)) #795227"
   ]
  },
  {
   "cell_type": "code",
   "execution_count": 138,
   "id": "6bbcd0d1-03d3-485e-882f-67a0d2e770a0",
   "metadata": {},
   "outputs": [
    {
     "name": "stdout",
     "output_type": "stream",
     "text": [
      "The answer to number three is: 47\n"
     ]
    }
   ],
   "source": [
    "# 3. How many times does the word \"apostle\", ignoring capitalization, appear in the string?\n",
    "all_words = pg10.split()\n",
    "list = [''.join(filter(str.isalpha, word)) for word in all_words]\n",
    "count = 0\n",
    "for word in list:\n",
    "    if word.lower() == \"apostle\":\n",
    "        count += 1\n",
    "print(\"The answer to number three is:\" + \" \" + str(count)) #47"
   ]
  },
  {
   "cell_type": "code",
   "execution_count": 88,
   "id": "bcb16c6b-f5be-4207-be29-0448ff0cdfce",
   "metadata": {},
   "outputs": [
    {
     "name": "stdout",
     "output_type": "stream",
     "text": [
      "The answer to number four is: the\n"
     ]
    }
   ],
   "source": [
    "# 4. What is the most common word, ignoring capitalization, in the string? \n",
    "# (where a word is any set of directly-adjacent alphabet characters) \n",
    "all_words = pg10.lower().split()\n",
    "word_count = {}\n",
    "for x in all_words:\n",
    "    if x.isalpha(): \n",
    "        word_count[x] = word_count.get(x, 0) + 1\n",
    "answer = max(word_count, key = word_count.get)\n",
    "print(\"The answer to number four is:\" + \" \" + answer) # the"
   ]
  }
 ],
 "metadata": {
  "kernelspec": {
   "display_name": "Python 3 (ipykernel)",
   "language": "python",
   "name": "python3"
  },
  "language_info": {
   "codemirror_mode": {
    "name": "ipython",
    "version": 3
   },
   "file_extension": ".py",
   "mimetype": "text/x-python",
   "name": "python",
   "nbconvert_exporter": "python",
   "pygments_lexer": "ipython3",
   "version": "3.11.7"
  }
 },
 "nbformat": 4,
 "nbformat_minor": 5
}
