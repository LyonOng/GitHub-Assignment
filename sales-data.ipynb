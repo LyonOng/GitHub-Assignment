{
 "cells": [
  {
   "cell_type": "code",
   "execution_count": 279,
   "id": "b3b0642d-32d0-4488-af7d-b1cc52600c3c",
   "metadata": {},
   "outputs": [],
   "source": [
    "import pandas as pd\n",
    "import numpy as np"
   ]
  },
  {
   "cell_type": "code",
   "execution_count": 281,
   "id": "efd530a9-da04-4f93-a5c6-6003da6f3cb5",
   "metadata": {},
   "outputs": [],
   "source": [
    "df = pd.read_csv(\"./fct_invoice.csv\")\n",
    "df_2 = pd.read_json(\"./dim_customer.json\")"
   ]
  },
  {
   "cell_type": "markdown",
   "id": "502ddeeb-01d4-40ac-9ea5-7151218589f7",
   "metadata": {},
   "source": [
    "# EASY SECTION"
   ]
  },
  {
   "cell_type": "markdown",
   "id": "3d76108b-6bd7-47f3-83c1-f505751f5149",
   "metadata": {},
   "source": [
    "### 1. (Easy) How many unique customers are in the dataset?"
   ]
  },
  {
   "cell_type": "code",
   "execution_count": 852,
   "id": "4d4adc0f-3a07-46e7-bbc2-b076ee603adf",
   "metadata": {},
   "outputs": [
    {
     "data": {
      "text/plain": [
       "4992"
      ]
     },
     "execution_count": 852,
     "metadata": {},
     "output_type": "execute_result"
    }
   ],
   "source": [
    "df_2[\"customer_names\"] = df_2[\"first_name\"] + df_2[\"last_name\"]\n",
    "df_2[\"customer_names\"].nunique()\n",
    "# thought of going nunique on the customer_ids, but this seemed more logical \n",
    "# since it was asking for how many \"unique customers\""
   ]
  },
  {
   "cell_type": "markdown",
   "id": "2feca7d9-14a7-41ae-af17-f3d61601a55d",
   "metadata": {},
   "source": [
    "The answer to number one (easy) is 4992. I got this by pairing the first names and last names of all of the customers, then stored this into a new column called customer names. Afterwards, I used the nunique function to see how many unique customer names there were."
   ]
  },
  {
   "cell_type": "markdown",
   "id": "98a7b829-90a7-4a40-a5e2-b95aed51dbc3",
   "metadata": {},
   "source": [
    "### 2. (Easy) What are the different categories of products available? How many unique categories are there?"
   ]
  },
  {
   "cell_type": "code",
   "execution_count": 859,
   "id": "c086f852-72cc-44ee-867e-6aa9913b43b8",
   "metadata": {},
   "outputs": [
    {
     "data": {
      "text/plain": [
       "category\n",
       "Clothing           34487\n",
       "Cosmetics          15097\n",
       "Food & Beverage    14776\n",
       "Toys               10087\n",
       "Shoes              10034\n",
       "Souvenir            4999\n",
       "Technology          4996\n",
       "Books               4981\n",
       "Name: count, dtype: int64"
      ]
     },
     "execution_count": 859,
     "metadata": {},
     "output_type": "execute_result"
    }
   ],
   "source": [
    "df[\"category\"].value_counts()"
   ]
  },
  {
   "cell_type": "code",
   "execution_count": 289,
   "id": "f91b8dd0-181d-4fa9-9f37-76756d10b2cf",
   "metadata": {},
   "outputs": [
    {
     "data": {
      "text/plain": [
       "8"
      ]
     },
     "execution_count": 289,
     "metadata": {},
     "output_type": "execute_result"
    }
   ],
   "source": [
    "df[\"category\"].nunique()"
   ]
  },
  {
   "cell_type": "markdown",
   "id": "b578644e-28c7-4304-b074-e2de748ad40d",
   "metadata": {},
   "source": [
    "The answer to number two (easy) is 8 based on the number of unique categories. These categories are namely: Clothing, Cosmetics, Food & Bevarage, Toys, Shows, Souveneir, Technology, and Books. I got these by using the value counts function on the \"category\" column of the invoice data. "
   ]
  },
  {
   "cell_type": "markdown",
   "id": "67a8ffcb-fe3a-4898-a441-9afa2f460b94",
   "metadata": {},
   "source": [
    "### 3. (Easy) Which payment method is the most popular? How many times was it used?"
   ]
  },
  {
   "cell_type": "code",
   "execution_count": 293,
   "id": "190897e4-66e1-40d9-b108-b263c9a9ecf6",
   "metadata": {},
   "outputs": [
    {
     "data": {
      "text/plain": [
       "'Cash'"
      ]
     },
     "execution_count": 293,
     "metadata": {},
     "output_type": "execute_result"
    }
   ],
   "source": [
    "df[\"payment_method\"].value_counts().idxmax()"
   ]
  },
  {
   "cell_type": "code",
   "execution_count": 797,
   "id": "62da64dd-170b-4372-b8f3-e60692a01392",
   "metadata": {},
   "outputs": [
    {
     "data": {
      "text/plain": [
       "payment_method\n",
       "Cash           44447\n",
       "Credit Card    34931\n",
       "Debit Card     20079\n",
       "Name: count, dtype: int64"
      ]
     },
     "execution_count": 797,
     "metadata": {},
     "output_type": "execute_result"
    }
   ],
   "source": [
    "# proof of idxmax\n",
    "df[\"payment_method\"].value_counts()"
   ]
  },
  {
   "cell_type": "markdown",
   "id": "7ba090a3-9d81-452b-9f8d-d899c2b68758",
   "metadata": {},
   "source": [
    "The answer to number three (easy) is Cash. I got this by using the value counts function to see how many times a specific payment method was used, and then used the idxmax function to return the one with the highest value. "
   ]
  },
  {
   "cell_type": "markdown",
   "id": "a92d9570-5fcb-48c9-9861-8a1677a2a1cb",
   "metadata": {},
   "source": [
    "# MEDIUM SECTION"
   ]
  },
  {
   "cell_type": "markdown",
   "id": "e6ee6e93-b9ef-49ec-90a9-3da4169ce1fd",
   "metadata": {},
   "source": [
    "### 1. (Medium) What are the three most popular categories, by total sales?"
   ]
  },
  {
   "cell_type": "code",
   "execution_count": 828,
   "id": "cf481c29-d8b1-48dc-be5d-a22df0d6743a",
   "metadata": {},
   "outputs": [
    {
     "data": {
      "text/plain": [
       "category\n",
       "Clothing      1.139968e+08\n",
       "Shoes         6.655345e+07\n",
       "Technology    5.786235e+07\n",
       "Name: total_sales, dtype: float64"
      ]
     },
     "execution_count": 828,
     "metadata": {},
     "output_type": "execute_result"
    }
   ],
   "source": [
    "df[\"total_sales\"] = df[\"quantity\"]*df[\"price\"]\n",
    "sales = df.groupby(\"category\").sum()[\"total_sales\"].sort_values(ascending = False)\n",
    "sales.head(3)"
   ]
  },
  {
   "cell_type": "code",
   "execution_count": 832,
   "id": "548e91ca-4074-4842-a9c7-c07c0a12579c",
   "metadata": {},
   "outputs": [
    {
     "data": {
      "text/plain": [
       "category\n",
       "Clothing           1.139968e+08\n",
       "Shoes              6.655345e+07\n",
       "Technology         5.786235e+07\n",
       "Cosmetics          6.792863e+06\n",
       "Toys               3.980426e+06\n",
       "Food & Beverage    8.495351e+05\n",
       "Books              8.345529e+05\n",
       "Souvenir           6.358247e+05\n",
       "Name: total_sales, dtype: float64"
      ]
     },
     "execution_count": 832,
     "metadata": {},
     "output_type": "execute_result"
    }
   ],
   "source": [
    "# proof of sort values\n",
    "sales = df.groupby(\"category\").sum()[\"total_sales\"].sort_values(ascending = False)\n",
    "sales.head(8)"
   ]
  },
  {
   "cell_type": "markdown",
   "id": "f680e048-9ce7-4a5b-88ac-69a0e49d5e0d",
   "metadata": {},
   "source": [
    "The answers to number one (medium) are the categories: Clothing, Shoes, and Technology. I got this by first making a new column generating the total sales. Afterwards, I did a groupby function to pair up a category with its corresponding total sales value. Then, I sorted these values in descending order. "
   ]
  },
  {
   "cell_type": "markdown",
   "id": "6c2e09d4-e34e-4f92-a20c-f53dd012d7b6",
   "metadata": {},
   "source": [
    "### 2. (Medium) What are the total sales attributed to customers over the age of 45?"
   ]
  },
  {
   "cell_type": "code",
   "execution_count": 876,
   "id": "a830c13b-4243-4d17-bb87-7df64d80bc68",
   "metadata": {},
   "outputs": [
    {
     "data": {
      "text/plain": [
       "82039768.14999625"
      ]
     },
     "execution_count": 876,
     "metadata": {},
     "output_type": "execute_result"
    }
   ],
   "source": [
    "df_2.rename(columns={\"id\": \"customer_id\"}, inplace=True) \n",
    "df3 = pd.merge(df, df_2, on = \"customer_id\", how = \"left\")\n",
    "age_col = df3[\"age\"]\n",
    "age_check = (age_col > 45)\n",
    "filtered = df3[age_check]\n",
    "qty = filtered[\"quantity\"]\n",
    "price = filtered[\"price\"]\n",
    "sum(qty * price)"
   ]
  },
  {
   "cell_type": "markdown",
   "id": "8ad4a5d8-835f-4bfa-ac6e-64f9d4a820c3",
   "metadata": {},
   "source": [
    "The answer to number two (medium) is 82039768.14999625"
   ]
  },
  {
   "cell_type": "markdown",
   "id": "4ea402a4-5685-4fd6-bebc-f3194a55ff5f",
   "metadata": {},
   "source": [
    "### 3. (Medium) How is the data distributed across different invoice dates? Are there any seasonal trends or patterns? (Use a graph for this.)"
   ]
  },
  {
   "cell_type": "code",
   "execution_count": 310,
   "id": "e405a988-4a19-422d-b5ce-a17c1e1d0550",
   "metadata": {},
   "outputs": [],
   "source": [
    "import matplotlib.pyplot as plt"
   ]
  },
  {
   "cell_type": "code",
   "execution_count": 880,
   "id": "58a605c0-2c69-4e3d-89ca-82dcf0b10fbc",
   "metadata": {},
   "outputs": [
    {
     "data": {
      "text/plain": [
       "filter_date\n",
       "1     28891525.59\n",
       "2     26625090.10\n",
       "3     21956191.33\n",
       "4     18715685.98\n",
       "5     19719331.10\n",
       "6     18933775.30\n",
       "7     20378722.63\n",
       "8     19282361.29\n",
       "9     18795794.91\n",
       "10    20545090.43\n",
       "11    18207139.95\n",
       "12    19455085.64\n",
       "Name: total_sales, dtype: float64"
      ]
     },
     "execution_count": 880,
     "metadata": {},
     "output_type": "execute_result"
    },
    {
     "data": {
      "image/png": "[encoded data removed]",
      "text/plain": [
       "<Figure size 640x480 with 1 Axes>"
      ]
     },
     "metadata": {},
     "output_type": "display_data"
    }
   ],
   "source": [
    "df[\"total_sales\"] = df[\"quantity\"]*df[\"price\"]\n",
    "df[\"filter_date\"] = pd.to_datetime(df[\"invoice_date\"], format = \"%d/%m/%Y\")\n",
    "df.sort_values(by=\"filter_date\", inplace=True)\n",
    "sales = df.groupby(df.filter_date.dt.month)[\"total_sales\"].sum()\n",
    "sales.plot()\n",
    "plt.xlabel(\"Invoice Date (Month)\")\n",
    "plt.ylabel(\"Total Sales\")\n",
    "sales"
   ]
  },
  {
   "cell_type": "markdown",
   "id": "c25fd035-3aa2-4a10-a738-25c00068a074",
   "metadata": {},
   "source": [
    "To start, I created a line graph that displays the total amount of sales per month for the entirety of the invoice data. I first created a new column called total sales, and then standardized the dates to a new format. I did a sort value function initially just as a progress check, but decided to not remove it anymore. I then did a groupby function pairing the month with its respective total sales. \n",
    "\n",
    "From the graph generated, it would appear that there is a big drop off starting from January. As one can see, the month of January generates the most sales, but after that month, it goes downhill and does not recover at all. Therefore, one can surmise that the peak season for this data happens during the start of the year or January. Even for what is considered the holiday season, i.e., the end of the year a time that is supposed to generate a lot of sales, the graph shows little to no uptick. Nonewithstanding the few small upticks during the months of July and October, the amount of sales for these months are a far cry from the month of January. However, it must also be noted that the first three months (i.e., January, February, and March) all have additional sales data in the invoice csv given that starting from April, no more sales data is available for the rest of the months for 2023. "
   ]
  },
  {
   "cell_type": "markdown",
   "id": "258aa856-ce80-45ac-be5c-9593b508f261",
   "metadata": {},
   "source": [
    "# HARD SECTION"
   ]
  },
  {
   "cell_type": "markdown",
   "id": "2df1bb95-8cf6-4eb2-a512-c18a52ed84cb",
   "metadata": {},
   "source": [
    "### 1. (Hard) Create a pivot table showing the breakdown of sales across these dimensions, in this order: category, decade age range (e.g., 10-19, 20-29, and so forth)."
   ]
  },
  {
   "cell_type": "code",
   "execution_count": 885,
   "id": "423a9241-0f48-40bd-aa53-eea9ba2d7125",
   "metadata": {},
   "outputs": [],
   "source": [
    "df = pd.read_csv(\"./fct_invoice.csv\")\n",
    "df_2 = pd.read_json(\"./dim_customer.json\")"
   ]
  },
  {
   "cell_type": "code",
   "execution_count": 889,
   "id": "e7921a2a-45c4-4119-8ea4-e0a71c60963b",
   "metadata": {},
   "outputs": [
    {
     "name": "stdout",
     "output_type": "stream",
     "text": [
      "                           total_sales\n",
      "category        age_range             \n",
      "Books           10-19         12801.75\n",
      "                20-29         79461.75\n",
      "                30-39         84143.10\n",
      "                40-49         87203.40\n",
      "                50-59         74962.20\n",
      "                60-69         80476.80\n",
      "                70-79         54827.85\n",
      "                80-89         26664.00\n",
      "                90-100            0.00\n",
      "Clothing        10-19       1927413.84\n",
      "                20-29      10250732.80\n",
      "                30-39      11354126.96\n",
      "                40-49      11215189.92\n",
      "                50-59      10321851.76\n",
      "                60-69      10660642.08\n",
      "                70-79       7769371.28\n",
      "                80-89       4493698.00\n",
      "                90-100            0.00\n",
      "Cosmetics       10-19        109619.36\n",
      "                20-29        605915.32\n",
      "                30-39        723544.70\n",
      "                40-49        665034.96\n",
      "                50-59        587780.96\n",
      "                60-69        649990.76\n",
      "                70-79        419082.62\n",
      "                80-89        254531.60\n",
      "                90-100            0.00\n",
      "Food & Beverage 10-19         13582.31\n",
      "                20-29         73491.96\n",
      "                30-39         87246.86\n",
      "                40-49         89553.29\n",
      "                50-59         72425.04\n",
      "                60-69         80976.09\n",
      "                70-79         55050.98\n",
      "                80-89         31332.93\n",
      "                90-100            0.00\n",
      "Shoes           10-19        993281.35\n",
      "                20-29       5924878.24\n",
      "                30-39       7200839.66\n",
      "                40-49       7025590.02\n",
      "                50-59       5852857.84\n",
      "                60-69       5978893.54\n",
      "                70-79       4480269.05\n",
      "                80-89       2628744.60\n",
      "                90-100            0.00\n",
      "Souvenir        10-19         12375.15\n",
      "                20-29         54943.32\n",
      "                30-39         64092.72\n",
      "                40-49         66391.80\n",
      "                50-59         54943.32\n",
      "                60-69         55025.43\n",
      "                70-79         38673.81\n",
      "                80-89         23718.06\n",
      "                90-100            0.00\n",
      "Technology      10-19       1129800.00\n",
      "                20-29       5261550.00\n",
      "                30-39       6159300.00\n",
      "                40-49       5954550.00\n",
      "                50-59       4435200.00\n",
      "                60-69       5471550.00\n",
      "                70-79       3638250.00\n",
      "                80-89       1946700.00\n",
      "                90-100            0.00\n",
      "Toys            10-19         60426.24\n",
      "                20-29        385100.80\n",
      "                30-39        420582.40\n",
      "                40-49        390906.88\n",
      "                50-59        345067.52\n",
      "                60-69        363955.20\n",
      "                70-79        273244.16\n",
      "                80-89        153932.80\n",
      "                90-100            0.00\n"
     ]
    }
   ],
   "source": [
    "df_2.rename(columns={\"id\": \"customer_id\"}, inplace=True) \n",
    "df3 = pd.merge(df, df_2, on = \"customer_id\", how = \"left\")\n",
    "df3[\"total_sales\"] = df3[\"quantity\"]*df3[\"price\"]\n",
    "boundary = [10, 20, 30, 40, 50, 60, 70, 80, 90, 100]\n",
    "intervals = [\"10-19\", \"20-29\", \"30-39\", \"40-49\", \"50-59\", \"60-69\", \"70-79\", \"80-89\", \"90-100\"]\n",
    "df3[\"age_range\"] = pd.cut(df3[\"age\"], bins = boundary, labels = intervals, right = False)\n",
    "pivot = df3.pivot_table(index = [\"category\", \"age_range\"], values = [\"total_sales\"], aggfunc='sum', fill_value = 0)\n",
    "pd.set_option(\"display.max_rows\", None)\n",
    "print(pivot)"
   ]
  }
 ],
 "metadata": {
  "kernelspec": {
   "display_name": "Python 3 (ipykernel)",
   "language": "python",
   "name": "python3"
  },
  "language_info": {
   "codemirror_mode": {
    "name": "ipython",
    "version": 3
   },
   "file_extension": ".py",
   "mimetype": "text/x-python",
   "name": "python",
   "nbconvert_exporter": "python",
   "pygments_lexer": "ipython3",
   "version": "3.11.7"
  }
 },
 "nbformat": 4,
 "nbformat_minor": 5
}
